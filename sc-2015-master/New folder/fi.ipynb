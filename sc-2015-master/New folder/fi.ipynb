{
 "cells": [
  {
   "cell_type": "code",
   "execution_count": 1,
   "metadata": {
    "collapsed": true
   },
   "outputs": [],
   "source": [
    "#import potrebnih biblioteka\n",
    "%matplotlib inline\n",
    "import cv2\n",
    "import collections\n",
    "import numpy as np\n",
    "import scipy as sc\n",
    "import matplotlib.pyplot as plt\n",
    "from scipy.spatial import distance\n",
    "\n",
    "# k-means\n",
    "from sklearn.cluster import KMeans\n",
    "\n",
    "# keras\n",
    "from keras.models import Sequential\n",
    "from keras.layers.core import Dense,Activation\n",
    "from keras.optimizers import SGD\n",
    "\n",
    "import matplotlib.pylab as pylab\n",
    "pylab.rcParams['figure.figsize'] = 16, 12 # za prikaz većih slika i plotova, zakomentarisati ako nije potrebno"
   ]
  },
  {
   "cell_type": "code",
   "execution_count": 125,
   "metadata": {
    "collapsed": true
   },
   "outputs": [],
   "source": [
    "def load_image(path):\n",
    "    return cv2.cvtColor(cv2.imread(path), cv2.COLOR_BGR2RGB)\n",
    "def image_gray(image):\n",
    "    return cv2.cvtColor(image, cv2.COLOR_RGB2GRAY)\n",
    "def image_bin(image_gs):\n",
    "    ret,image_bin = cv2.threshold(image_gs, 127, 255, cv2.THRESH_BINARY)\n",
    "    return image_bin\n",
    "def image_bin_adaptive(image_gs):\n",
    "    image_bin = cv2.adaptiveThreshold(image_gs, 135, cv2.ADAPTIVE_THRESH_MEAN_C, cv2.THRESH_BINARY, 55, 10)\n",
    "    return image_bin\n",
    "def invert(image):\n",
    "    return 255-image\n",
    "def display_image(image, color= False):\n",
    "    if color:\n",
    "        plt.imshow(image)\n",
    "    else:\n",
    "        plt.imshow(image, 'gray')\n",
    "def dilate(image):\n",
    "    kernel = np.ones((3,3)) # strukturni element 3x3 blok\n",
    "    return cv2.dilate(image, kernel, iterations=1)\n",
    "def erode(image):\n",
    "    kernel = np.ones((3,3)) # strukturni element 3x3 blok\n",
    "    return cv2.erode(image, kernel, iterations=1)\n",
    "\n",
    "#Funkcionalnost implementirana u V2\n",
    "def resize_region(region):\n",
    "    resized = cv2.resize(region,(28,28), interpolation = cv2.INTER_NEAREST)\n",
    "    return resized\n",
    "def scale_to_range(image):\n",
    "    return image / 255\n",
    "def matrix_to_vector(image):\n",
    "    return image.flatten()\n",
    "def prepare_for_ann(regions):\n",
    "    ready_for_ann = []\n",
    "    for region in regions:\n",
    "        ready_for_ann.append(matrix_to_vector(scale_to_range(region)))\n",
    "    return ready_for_ann\n",
    "def convert_output(outputs):\n",
    "    return np.eye(len(outputs))\n",
    "def winner(output):\n",
    "    return max(enumerate(output), key=lambda x: x[1])[0]"
   ]
  },
  {
   "cell_type": "code",
   "execution_count": 126,
   "metadata": {
    "collapsed": true
   },
   "outputs": [],
   "source": [
    "def remove_noise(binary_image):\n",
    "    ret_val = erode(dilate(binary_image))\n",
    "    ret_val = invert(ret_val)\n",
    "    return ret_val"
   ]
  },
  {
   "cell_type": "code",
   "execution_count": 127,
   "metadata": {
    "collapsed": true
   },
   "outputs": [],
   "source": [
    "def rotate_regions(contours,angles,centers,sizes):\n",
    "    '''Funkcija koja vrši rotiranje regiona oko njihovih centralnih tačaka\n",
    "    Args:\n",
    "        contours: skup svih kontura [kontura1, kontura2, ..., konturaN]\n",
    "        angles:   skup svih uglova nagiba kontura [nagib1, nagib2, ..., nagibN]\n",
    "        centers:  skup svih centara minimalnih pravougaonika koji su opisani \n",
    "                  oko kontura [centar1, centar2, ..., centarN]\n",
    "        sizes:    skup parova (height,width) koji predstavljaju duzine stranica minimalnog\n",
    "                  pravougaonika koji je opisan oko konture [(h1,w1), (h2,w2), ...,(hN,wN)]\n",
    "    Return:\n",
    "        ret_val: rotirane konture'''\n",
    "    ret_val = []\n",
    "    for idx, contour in enumerate(contours):\n",
    "                \n",
    "        angle = angles[idx]\n",
    "        cx,cy = centers[idx]\n",
    "        height, width = sizes[idx]\n",
    "        if width<height:\n",
    "            angle+=90\n",
    "            \n",
    "        # Rotiranje svake tačke regiona oko centra rotacije\n",
    "        alpha = np.pi/2 - abs(np.radians(angle))\n",
    "        region_points_rotated = np.ndarray((len(contour), 2), dtype=np.int16)\n",
    "        for i, point in enumerate(contour):\n",
    "            x = point[0]\n",
    "            y = point[1]\n",
    "            \n",
    "            #TODO 1 - izračunati koordinate tačke nakon rotacije\n",
    "            rx = np.sin(alpha)*(x-cx) - np.cos(alpha)*(y-cy) + cx\n",
    "            ry = np.cos(alpha)*(x-cx) + np.sin(alpha)*(y-cy) + cy\n",
    "            \n",
    "            \n",
    "            region_points_rotated[i] = [rx,ry]\n",
    "        ret_val.append(region_points_rotated)\n",
    "        \n",
    "\n",
    "    return ret_val"
   ]
  },
  {
   "cell_type": "code",
   "execution_count": 128,
   "metadata": {
    "collapsed": true
   },
   "outputs": [],
   "source": [
    "def merge_regions(contours):\n",
    "    '''Funkcija koja vrši spajanje kukica i kvačica sa osnovnim karakterima\n",
    "    Args:\n",
    "        contours: skup svih kontura (kontura - niz tacaka bele boje)\n",
    "    Return:\n",
    "        ret_val: skup kontura sa spojenim kukicama i kvacicama'''\n",
    "    ret_val = []\n",
    "    merged_index = [] #lista indeksa kontura koje su već spojene sa nekim\n",
    "\n",
    "    for i,contour1 in enumerate(contours): #slova\n",
    "        if i in merged_index:\n",
    "            continue\n",
    "        min_x1 = min(contour1[:,0])\n",
    "        max_x1 = max(contour1[:,0])\n",
    "        min_y1 = min(contour1[:,1])\n",
    "        max_y1 = max(contour1[:,1])\n",
    "        for j,contour2 in enumerate(contours): #kukice\n",
    "            if j in merged_index or i == j:\n",
    "                continue\n",
    "            min_x2 = min(contour2[:,0])\n",
    "            max_x2 = max(contour2[:,0])\n",
    "            min_y2 = min(contour2[:,1])\n",
    "            max_y2 = max(contour2[:,1])\n",
    "            \n",
    "            #TODO 2 - izvršiti spajanje kukica iznad slova\n",
    "            #spajanje dva niza je moguće obaviti funkcijom np.concatenate((contour1,contour2))\n",
    "            \n",
    "            if len(contour1)/5>len(contour2): #provera pretpostavke da je contour1 slovo\n",
    "                \n",
    "                if (min_y1-max_y2)<max(max_y1-min_y1,max_y2-min_y2)/2 \\\n",
    "                and (min_x2>min_x1-5 and max_x2<max_x1+5):\n",
    "                    #spajanje kontura\n",
    "                    ret_val.append(np.concatenate((contour1,contour2)))\n",
    "                    merged_index.append(i)\n",
    "                    merged_index.append(j)\n",
    "            \n",
    "                    \n",
    "    #svi regioni koji se nisu ni sa kim spojili idu u listu kontura, bez spajanja\n",
    "    for idx,contour in enumerate(contours):\n",
    "        if idx not in merged_index:\n",
    "            ret_val.append(contour)\n",
    "        \n",
    "    return ret_val\n"
   ]
  },
  {
   "cell_type": "code",
   "execution_count": 129,
   "metadata": {
    "collapsed": true
   },
   "outputs": [],
   "source": [
    "def select_roi(image_orig, image_bin):\n",
    "    \n",
    "    img, contours_borders, hierarchy = cv2.findContours(image_bin.copy(), cv2.RETR_EXTERNAL, cv2.CHAIN_APPROX_NONE)\n",
    "    \n",
    "    contours = []\n",
    "    contour_angles = []\n",
    "    contour_centers = []\n",
    "    contour_sizes = []\n",
    "    for contour in contours_borders:\n",
    "        center, size, angle = cv2.minAreaRect(contour)\n",
    "        xt,yt,h,w = cv2.boundingRect(contour)\n",
    "\n",
    "        region_points = []\n",
    "        for i in range (xt,xt+h):\n",
    "            for j in range(yt,yt+w):\n",
    "                dist = cv2.pointPolygonTest(contour,(i,j),False)\n",
    "                if dist>=0 and image_bin[j,i]==255: # da li se tacka nalazi unutar konture?\n",
    "                    region_points.append([i,j])\n",
    "        contour_centers.append(center)\n",
    "        contour_angles.append(angle)\n",
    "        contour_sizes.append(size)\n",
    "        contours.append(region_points)\n",
    "    \n",
    "    #Postavljanje kontura u vertikalan polozaj\n",
    "    contours = rotate_regions(contours, contour_angles, contour_centers, contour_sizes)\n",
    "    \n",
    "    #spajanje kukica i kvacica\n",
    "    contours = merge_regions(contours)\n",
    "    \n",
    "    regions_dict = {}\n",
    "    for contour in contours:\n",
    "    \n",
    "        min_x = min(contour[:,0])\n",
    "        max_x = max(contour[:,0])\n",
    "        min_y = min(contour[:,1])\n",
    "        max_y = max(contour[:,1])\n",
    "\n",
    "        region = np.zeros((max_y-min_y+1,max_x-min_x+1), dtype=np.int16)\n",
    "        for point in contour:\n",
    "            x = point[0]\n",
    "            y = point[1]\n",
    "            \n",
    "             # TODO 3 - koordinate tacaka regiona prebaciti u relativne koordinate\n",
    "            '''Pretpostavimo da gornja leva tačka regiona ima apsolutne koordinate (100,100).\n",
    "            Ako uzmemo tačku sa koordinatama unutar regiona, recimo (105,105), nakon\n",
    "            prebacivanja u relativne koordinate tačka bi trebala imati koorinate (5,5) unutar\n",
    "            samog regiona.\n",
    "            '''\n",
    "            region[y-min_y,x-min_x] = 255\n",
    "\n",
    "        \n",
    "        regions_dict[min_y] = [resize_region(region), (min_x,min_y,max_x-min_x,max_y-min_y)]\n",
    "        \n",
    "    sorted_regions_dict = collections.OrderedDict(sorted(regions_dict.items()))\n",
    "    sorted_regions = np.array(sorted_regions_dict.values())\n",
    "    \n",
    "    sorted_rectangles = sorted_regions[:,1]\n",
    "    region_distances = [-sorted_rectangles[0][0]-sorted_rectangles[0][2]]\n",
    "    for x,y,w,h in sorted_regions[1:-1, 1]:\n",
    "        region_distances[-1] += x\n",
    "        region_distances.append(-x-w)\n",
    "    region_distances[-1] += sorted_rectangles[-1][0]\n",
    "    \n",
    "    return image_orig, sorted_regions[:, 0], region_distances"
   ]
  },
  {
   "cell_type": "code",
   "execution_count": 130,
   "metadata": {
    "collapsed": true
   },
   "outputs": [],
   "source": [
    "def create_ann(output):\n",
    "    \n",
    "    ann = Sequential()\n",
    "    # Postavljanje slojeva neurona mreže 'ann'\n",
    "    ann.add(Dense(input_dim=784, output_dim=128,init=\"glorot_uniform\"))\n",
    "    ann.add(Activation(\"sigmoid\"))\n",
    "    ann.add(Dense(input_dim=128, output_dim=output,init=\"glorot_uniform\"))\n",
    "    ann.add(Activation(\"sigmoid\"))\n",
    "    return ann\n",
    "    \n",
    "def train_ann(ann, X_train, y_train):\n",
    "    X_train = np.array(X_train, np.float32)\n",
    "    y_train = np.array(y_train, np.float32)\n",
    "   \n",
    "    # definisanje parametra algoritma za obucavanje\n",
    "    sgd = SGD(lr=0.01, momentum=0.9)\n",
    "    ann.compile(loss='mean_squared_error', optimizer=sgd)\n",
    "\n",
    "    # obucavanje neuronske mreze\n",
    "    ann.fit(X_train, y_train, nb_epoch=500, batch_size=1, verbose = 0, shuffle=False, show_accuracy = False) \n",
    "      \n",
    "    return ann"
   ]
  },
  {
   "cell_type": "code",
   "execution_count": 131,
   "metadata": {
    "collapsed": true
   },
   "outputs": [],
   "source": [
    "def display_result(outputs, alphabet, k_means):\n",
    "    '''\n",
    "    Funkcija određuje koja od grupa predstavlja razmak između reči, a koja između slova, i na osnovu\n",
    "    toga formira string od elemenata pronađenih sa slike.\n",
    "    Args:\n",
    "        outputs: niz izlaza iz neuronske mreže.\n",
    "        alphabet: niz karaktera koje je potrebno prepoznati\n",
    "        kmeans: obučen kmeans objekat\n",
    "    Return:\n",
    "        Vraća formatiran string\n",
    "    '''\n",
    "    # Odrediti indeks grupe koja odgovara rastojanju između reči, pomoću vrednosti iz k_means.cluster_centers_\n",
    "    w_space_group = max(enumerate(k_means.cluster_centers_), key = lambda x: x[1])[0]\n",
    "    result = alphabet[winner(outputs[0])]\n",
    "    for idx, output in enumerate(outputs[1:,:]):\n",
    "        # Iterativno dodavati prepoznate elemente kao u vežbi 2, alphabet[winner(output)]\n",
    "        # Dodati space karakter u slučaju da odgovarajuće rastojanje između dva slova odgovara razmaku između reči.\n",
    "        # U ovu svrhu, koristiti atribut niz k_means.labels_ koji sadrži sortirana rastojanja između susednih slova.\n",
    "        if (k_means.labels_[idx] == w_space_group):\n",
    "            result += '\\n'\n",
    "        result += alphabet[winner(output)]\n",
    "    return result"
   ]
  },
  {
   "cell_type": "code",
   "execution_count": 132,
   "metadata": {
    "collapsed": false
   },
   "outputs": [
    {
     "data": {
      "image/png": "[encoded data removed]",
      "text/plain": [
       "<matplotlib.figure.Figure at 0x241c4e80>"
      ]
     },
     "metadata": {},
     "output_type": "display_data"
    }
   ],
   "source": [
    "image=load_image('images/fifi_train.jpg')\n",
    "height, width = image.shape[0:2]\n",
    "# ndarray je n-dimensional array, odnosno n-dimenzionalna matrica. Grayscale slika nema RGB, \n",
    "# vec samo intenzitet piksela (0 je crno, 255 je belo, sve ostalo izmedju je nijansa sive).\n",
    "# Sa dtype=np.uint8 se naglasava da je u pitanju 8-bitni tip podatka za elemente matrice, tj. piksele\n",
    "image_gray = np.ndarray((height, width), dtype=np.uint8)\n",
    "\n",
    "# za svaki piksel na slici u boji\n",
    "for i in range(0, height):\n",
    "     for j in range(0, width):\n",
    "        pixel = image[i, j] # preuzimanje piksela\n",
    "        r,g,b = pixel[0], pixel[1], pixel[2] # preuzimanje RGB komponenti piksela\n",
    "        gray = float(r) * 0 + float(g) * .587 + float(b) *255 # racunanje grayscale intenziteta\n",
    "        image_gray[i, j] = gray # postavljanje piksela na rezultujucoj slici\n",
    "        \n",
    "plt.imshow(image_gray, 'gray')\n",
    "\n",
    "image_b=invert(image_bin_adaptive(image_gray))\n",
    "display_image(image_b)"
   ]
  },
  {
   "cell_type": "code",
   "execution_count": 133,
   "metadata": {
    "collapsed": false
   },
   "outputs": [
    {
     "name": "stdout",
     "output_type": "stream",
     "text": [
      "1\n"
     ]
    }
   ],
   "source": [
    "selected_reg, slova, distance = select_roi(image.copy(), image_b)\n",
    "print len(slova)\n"
   ]
  },
  {
   "cell_type": "code",
   "execution_count": 91,
   "metadata": {
    "collapsed": false
   },
   "outputs": [],
   "source": [
    "distance = np.array(distance).reshape(len(distance), 1)\n",
    "k_means_test = KMeans(n_clusters=2, max_iter=2000, tol=0.00001, n_init=10)\n",
    "k_means_test.fit(distance)\n",
    "inputs_obucavanje = prepare_for_ann(slova)\n",
    "alphabet = ['a','b','ć','d','e','f','g','h','i','j','k','l','m','n','o','p','q','r','s','t','u','v','w','x','y','z']\n",
    "outputs_obucavanje = convert_output(alphabet)\n",
    "ann = create_ann(len(slova))\n",
    "ann = train_ann(ann, inputs_obucavanje, outputs_obucavanje)"
   ]
  },
  {
   "cell_type": "code",
   "execution_count": null,
   "metadata": {
    "collapsed": true
   },
   "outputs": [],
   "source": []
  }
 ],
 "metadata": {
  "kernelspec": {
   "display_name": "Python 2",
   "language": "python",
   "name": "python2"
  },
  "language_info": {
   "codemirror_mode": {
    "name": "ipython",
    "version": 2
   },
   "file_extension": ".py",
   "mimetype": "text/x-python",
   "name": "python",
   "nbconvert_exporter": "python",
   "pygments_lexer": "ipython2",
   "version": "2.7.10"
  }
 },
 "nbformat": 4,
 "nbformat_minor": 0
}
